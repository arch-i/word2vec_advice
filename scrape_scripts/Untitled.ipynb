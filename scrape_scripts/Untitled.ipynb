{
 "cells": [
  {
   "cell_type": "code",
   "execution_count": 30,
   "metadata": {
    "collapsed": true
   },
   "outputs": [],
   "source": [
    "from lxml import html\n",
    "import requests\n",
    "\n",
    "from datetime import date\n",
    "import numpy as np\n",
    "import pandas as pd\n",
    "\n",
    "import re as re\n",
    "\n",
    "from itertools import chain\n",
    "import cPickle as pickle\n",
    "\n",
    "from tqdm import tqdm\n",
    "\n",
    "def getURLforYear(year, archiveURL='http://www.uexpress.com/dearabby/archives'):\n",
    "    archive = requests.get('{0}/{1}'.format(archiveURL, year))\n",
    "    tree = html.fromstring(archive.text)\n",
    "    urlList = [a.attrib['href'] for a in tree.find_class('media-link-main')]\n",
    "    return urlList\n",
    "\n",
    "def scrape_page(extURL, baseURL='http://www.uexpress.com/'):    \n",
    "    page = requests.get('{0}{1}'.format(baseURL, extURL))\n",
    "    tree = html.fromstring(page.text)\n",
    "    questions = tree.find_class('item-section')\n",
    "    allQ = []\n",
    "    for q in questions:\n",
    "        qText = [i.text_content() for i in q.iterfind('p')]\n",
    "        allQ += qText\n",
    "    allQ = ' '.join(allQ)\n",
    "    return allQ\n",
    "\n",
    "df_text = pd.read_pickle('abbyText.pickle')"
   ]
  },
  {
   "cell_type": "code",
   "execution_count": 80,
   "metadata": {
    "collapsed": true
   },
   "outputs": [],
   "source": [
    "def parseAbby(block):\n",
    "    block = ' '.join(' '.join(block).split()).strip()\n",
    "    block = block.split('DEAR ')\n",
    "\n",
    "    abbyBlock = [p.startswith('ABBY:') for p in block]\n",
    "    dearReaderBlock = [p.startswith('READERS:') for p in block]\n",
    "    replyBlock = [not (p[0] or p[1]) for p in zip(abbyBlock, dearReaderBlock)]\n",
    "    \n",
    "    QA_pairs = []\n",
    "    if True in abbyBlock and True in replyBlock:\n",
    "        firstBlock = abbyBlock.index(True)\n",
    "        \n",
    "        block = block[firstBlock:]\n",
    "        abbyBlock = abbyBlock[firstBlock:]\n",
    "        dearReaderBlock = dearReaderBlock[firstBlock:]\n",
    "        replyBlock = replyBlock[firstBlock:]\n",
    "        \n",
    "        for i in range(len(block)-1):\n",
    "            if abbyBlock[i] and replyBlock[i+1]:\n",
    "                QA_pairs.append([block[i], block[i+1]])\n",
    "    \n",
    "    return QA_pairs\n",
    "    "
   ]
  },
  {
   "cell_type": "code",
   "execution_count": 82,
   "metadata": {},
   "outputs": [],
   "source": [
    "df_text.parse_text = df_text.raw_text.apply(parseAbby)"
   ]
  },
  {
   "cell_type": "code",
   "execution_count": 83,
   "metadata": {
    "collapsed": true
   },
   "outputs": [],
   "source": [
    "df_text.to_pickle('abbyText.pickle')"
   ]
  },
  {
   "cell_type": "code",
   "execution_count": null,
   "metadata": {
    "collapsed": true
   },
   "outputs": [],
   "source": []
  }
 ],
 "metadata": {
  "kernelspec": {
   "display_name": "Python 2",
   "language": "python",
   "name": "python2"
  },
  "language_info": {
   "codemirror_mode": {
    "name": "ipython",
    "version": 2
   },
   "file_extension": ".py",
   "mimetype": "text/x-python",
   "name": "python",
   "nbconvert_exporter": "python",
   "pygments_lexer": "ipython2",
   "version": "2.7.10"
  }
 },
 "nbformat": 4,
 "nbformat_minor": 2
}
